{
  "nbformat": 4,
  "nbformat_minor": 0,
  "metadata": {
    "colab": {
      "provenance": [],
      "authorship_tag": "ABX9TyNHmedOqHcgS5mv7o5+TcZb",
      "include_colab_link": true
    },
    "kernelspec": {
      "name": "python3",
      "display_name": "Python 3"
    },
    "language_info": {
      "name": "python"
    }
  },
  "cells": [
    {
      "cell_type": "markdown",
      "metadata": {
        "id": "view-in-github",
        "colab_type": "text"
      },
      "source": [
        "<a href=\"https://colab.research.google.com/github/mounika-b-25/Traffic-Collision-Analysis-and-Flow-Simulation-in-Toronto-Using-Cellular-Automata-Models/blob/main/Traffic_Collision_Analysis_and_Flow_Simulation_in_Toronto_Using_Cellular_Automata_Models.ipynb\" target=\"_parent\"><img src=\"https://colab.research.google.com/assets/colab-badge.svg\" alt=\"Open In Colab\"/></a>"
      ]
    },
    {
      "cell_type": "code",
      "execution_count": null,
      "metadata": {
        "id": "V2q84i7IvSfJ"
      },
      "outputs": [],
      "source": [
        "!git config --global user.email \"mounika.boddepalli@torontomu.ca\"\n",
        "!git config --global user.name \"mounika-b-25\"\n"
      ]
    },
    {
      "cell_type": "code",
      "source": [
        "!git clone https://github.com/mounika-b-25/Traffic-Collision-Analysis-and-Flow-Simulation-in-Toronto-Using-Cellular-Automata-Models.git\n"
      ],
      "metadata": {
        "colab": {
          "base_uri": "https://localhost:8080/"
        },
        "id": "kNSTeMLPy8uN",
        "outputId": "e08008be-778c-4fbf-950c-5e01f0e3fbd8"
      },
      "execution_count": null,
      "outputs": [
        {
          "output_type": "stream",
          "name": "stdout",
          "text": [
            "Cloning into 'Traffic-Collision-Analysis-and-Flow-Simulation-in-Toronto-Using-Cellular-Automata-Models'...\n",
            "remote: Enumerating objects: 3, done.\u001b[K\n",
            "remote: Counting objects: 100% (3/3), done.\u001b[K\n",
            "remote: Compressing objects: 100% (2/2), done.\u001b[K\n",
            "remote: Total 3 (delta 0), reused 0 (delta 0), pack-reused 0 (from 0)\u001b[K\n",
            "Receiving objects: 100% (3/3), done.\n"
          ]
        }
      ]
    },
    {
      "cell_type": "code",
      "source": [
        "%cd /content/Traffic-Collision-Analysis-and-Flow-Simulation-in-Toronto-Using-Cellular-Automata-Models\n"
      ],
      "metadata": {
        "colab": {
          "base_uri": "https://localhost:8080/"
        },
        "id": "YWL-x4Dnz_Iw",
        "outputId": "fe491a86-16e5-4005-bd42-20cc4f1fb5cd"
      },
      "execution_count": null,
      "outputs": [
        {
          "output_type": "stream",
          "name": "stdout",
          "text": [
            "/content/Traffic-Collision-Analysis-and-Flow-Simulation-in-Toronto-Using-Cellular-Automata-Models\n"
          ]
        }
      ]
    },
    {
      "cell_type": "code",
      "source": [
        "!ls /content\n"
      ],
      "metadata": {
        "colab": {
          "base_uri": "https://localhost:8080/"
        },
        "id": "b59fdZDg0BEU",
        "outputId": "bab500ed-b460-4374-ad0d-b61d6bf4bfd0"
      },
      "execution_count": null,
      "outputs": [
        {
          "output_type": "stream",
          "name": "stdout",
          "text": [
            "sample_data\n",
            "Traffic-Collision-Analysis-and-Flow-Simulation-in-Toronto-Using-Cellular-Automata-Models\n"
          ]
        }
      ]
    },
    {
      "cell_type": "code",
      "source": [
        "!ls /content/Traffic-Collision-Analysis-and-Flow-Simulation-in-Toronto-Using-Cellular-Automata-Models\n"
      ],
      "metadata": {
        "colab": {
          "base_uri": "https://localhost:8080/"
        },
        "id": "FWWXi3Vr0DeD",
        "outputId": "f1de6334-7b7f-4e66-94eb-86111aa61257"
      },
      "execution_count": null,
      "outputs": [
        {
          "output_type": "stream",
          "name": "stdout",
          "text": [
            "README.md\n",
            "Traffic-Collision-Analysis-and-Flow-Simulation-in-Toronto-Using-Cellular-Automata-Models\n"
          ]
        }
      ]
    },
    {
      "cell_type": "code",
      "source": [
        "from google.colab import drive\n",
        "drive.mount('/content/drive')\n"
      ],
      "metadata": {
        "id": "c9L7hobm1sYU",
        "colab": {
          "base_uri": "https://localhost:8080/"
        },
        "outputId": "ca319eab-be55-4719-ee79-f55ed7cffab6"
      },
      "execution_count": 15,
      "outputs": [
        {
          "output_type": "stream",
          "name": "stdout",
          "text": [
            "Mounted at /content/drive\n"
          ]
        }
      ]
    },
    {
      "cell_type": "markdown",
      "source": [
        "**Extract the zip files**"
      ],
      "metadata": {
        "id": "AjVOXAIRB0UL"
      }
    },
    {
      "cell_type": "code",
      "source": [
        "import zipfile\n",
        "import os\n",
        "\n",
        "# List of zip files\n",
        "zip_files = [\"/content/archive (1).zip\", \"/content/archive (2).zip\"]\n",
        "for zip_path in zip_files:\n",
        "    with zipfile.ZipFile(zip_path, 'r') as zip_ref:\n",
        "        extract_path = \"/content/extracted_\" + os.path.basename(zip_path).replace(\".zip\", \"\").replace(\" \", \"_\")\n",
        "        os.makedirs(extract_path, exist_ok=True)\n",
        "        zip_ref.extractall(extract_path)\n",
        "        print(f\"Extracted: {zip_path} to {extract_path}\")\n"
      ],
      "metadata": {
        "colab": {
          "base_uri": "https://localhost:8080/"
        },
        "id": "cCJFwwN9_k2f",
        "outputId": "846c76ca-1c23-4f89-deff-e90f457a5123"
      },
      "execution_count": 16,
      "outputs": [
        {
          "output_type": "stream",
          "name": "stdout",
          "text": [
            "Extracted: /content/archive (1).zip to /content/extracted_archive_(1)\n",
            "Extracted: /content/archive (2).zip to /content/extracted_archive_(2)\n"
          ]
        }
      ]
    },
    {
      "cell_type": "markdown",
      "source": [
        "**Import Libraries and Load the Data**"
      ],
      "metadata": {
        "id": "OMeVBc5QD1_Q"
      }
    },
    {
      "cell_type": "code",
      "source": [
        "import pandas as pd\n",
        "\n",
        "# Load the datasets\n",
        "traffic_df = pd.read_csv('/content/extracted_archive_(1)/Traffic_Collisions_Toronto_data.csv')\n",
        "ksi_df = pd.read_csv('/content/extracted_archive_(2)/KSI.csv')\n"
      ],
      "metadata": {
        "id": "tOl3PJXjB86_"
      },
      "execution_count": 17,
      "outputs": []
    },
    {
      "cell_type": "code",
      "source": [],
      "metadata": {
        "id": "D1VZFn1BD6PT"
      },
      "execution_count": null,
      "outputs": []
    }
  ]
}