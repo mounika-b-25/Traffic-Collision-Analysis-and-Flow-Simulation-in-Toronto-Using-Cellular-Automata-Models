{
  "nbformat": 4,
  "nbformat_minor": 0,
  "metadata": {
    "colab": {
      "provenance": [],
      "authorship_tag": "ABX9TyM1Cdc/w3iVT/Xlmj3mW981",
      "include_colab_link": true
    },
    "kernelspec": {
      "name": "python3",
      "display_name": "Python 3"
    },
    "language_info": {
      "name": "python"
    }
  },
  "cells": [
    {
      "cell_type": "markdown",
      "metadata": {
        "id": "view-in-github",
        "colab_type": "text"
      },
      "source": [
        "<a href=\"https://colab.research.google.com/github/mounika-b-25/Traffic-Collision-Analysis-and-Flow-Simulation-in-Toronto-Using-Cellular-Automata-Models/blob/main/Traffic_Collision_Analysis_and_Flow_Simulation_in_Toronto_Using_Cellular_Automata_Models.ipynb\" target=\"_parent\"><img src=\"https://colab.research.google.com/assets/colab-badge.svg\" alt=\"Open In Colab\"/></a>"
      ]
    },
    {
      "cell_type": "code",
      "execution_count": null,
      "metadata": {
        "id": "V2q84i7IvSfJ"
      },
      "outputs": [],
      "source": [
        "!git config --global user.email \"mounika.boddepalli@torontomu.ca\"\n",
        "!git config --global user.name \"mounika-b-25\"\n"
      ]
    },
    {
      "cell_type": "code",
      "source": [
        "!git clone https://github.com/mounika-b-25/Traffic-Collision-Analysis-and-Flow-Simulation-in-Toronto-Using-Cellular-Automata-Models.git\n"
      ],
      "metadata": {
        "colab": {
          "base_uri": "https://localhost:8080/"
        },
        "id": "kNSTeMLPy8uN",
        "outputId": "e08008be-778c-4fbf-950c-5e01f0e3fbd8"
      },
      "execution_count": null,
      "outputs": [
        {
          "output_type": "stream",
          "name": "stdout",
          "text": [
            "Cloning into 'Traffic-Collision-Analysis-and-Flow-Simulation-in-Toronto-Using-Cellular-Automata-Models'...\n",
            "remote: Enumerating objects: 3, done.\u001b[K\n",
            "remote: Counting objects: 100% (3/3), done.\u001b[K\n",
            "remote: Compressing objects: 100% (2/2), done.\u001b[K\n",
            "remote: Total 3 (delta 0), reused 0 (delta 0), pack-reused 0 (from 0)\u001b[K\n",
            "Receiving objects: 100% (3/3), done.\n"
          ]
        }
      ]
    },
    {
      "cell_type": "code",
      "source": [
        "%cd /content/Traffic-Collision-Analysis-and-Flow-Simulation-in-Toronto-Using-Cellular-Automata-Models\n"
      ],
      "metadata": {
        "colab": {
          "base_uri": "https://localhost:8080/"
        },
        "id": "YWL-x4Dnz_Iw",
        "outputId": "fe491a86-16e5-4005-bd42-20cc4f1fb5cd"
      },
      "execution_count": null,
      "outputs": [
        {
          "output_type": "stream",
          "name": "stdout",
          "text": [
            "/content/Traffic-Collision-Analysis-and-Flow-Simulation-in-Toronto-Using-Cellular-Automata-Models\n"
          ]
        }
      ]
    },
    {
      "cell_type": "code",
      "source": [
        "!ls /content\n"
      ],
      "metadata": {
        "colab": {
          "base_uri": "https://localhost:8080/"
        },
        "id": "b59fdZDg0BEU",
        "outputId": "bab500ed-b460-4374-ad0d-b61d6bf4bfd0"
      },
      "execution_count": null,
      "outputs": [
        {
          "output_type": "stream",
          "name": "stdout",
          "text": [
            "sample_data\n",
            "Traffic-Collision-Analysis-and-Flow-Simulation-in-Toronto-Using-Cellular-Automata-Models\n"
          ]
        }
      ]
    },
    {
      "cell_type": "code",
      "source": [
        "!ls /content/Traffic-Collision-Analysis-and-Flow-Simulation-in-Toronto-Using-Cellular-Automata-Models\n"
      ],
      "metadata": {
        "colab": {
          "base_uri": "https://localhost:8080/"
        },
        "id": "FWWXi3Vr0DeD",
        "outputId": "f1de6334-7b7f-4e66-94eb-86111aa61257"
      },
      "execution_count": null,
      "outputs": [
        {
          "output_type": "stream",
          "name": "stdout",
          "text": [
            "README.md\n",
            "Traffic-Collision-Analysis-and-Flow-Simulation-in-Toronto-Using-Cellular-Automata-Models\n"
          ]
        }
      ]
    },
    {
      "cell_type": "code",
      "source": [
        "!cp /content/Traffic-Collision-Analysis-and-Flow-Simulation-in-Toronto-Using-Cellular-Automata-Models/README.md.ipynb .\n"
      ],
      "metadata": {
        "colab": {
          "base_uri": "https://localhost:8080/"
        },
        "id": "QfMSj92Q1Qp3",
        "outputId": "3c1674f2-d8b9-4d6c-905d-f7297794d269"
      },
      "execution_count": null,
      "outputs": [
        {
          "output_type": "stream",
          "name": "stdout",
          "text": [
            "cp: cannot stat '/content/Traffic-Collision-Analysis-and-Flow-Simulation-in-Toronto-Using-Cellular-Automata-Models/README.md.ipynb': No such file or directory\n"
          ]
        }
      ]
    },
    {
      "cell_type": "code",
      "source": [],
      "metadata": {
        "id": "c9L7hobm1sYU"
      },
      "execution_count": null,
      "outputs": []
    }
  ]
}